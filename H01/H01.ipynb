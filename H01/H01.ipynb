{
 "cells": [
  {
   "cell_type": "markdown",
   "id": "4d550c5f-8215-46d2-96eb-7030b3fd833c",
   "metadata": {
    "jp-MarkdownHeadingCollapsed": true
   },
   "source": [
    "# HOMEWORK 01"
   ]
  },
  {
   "cell_type": "markdown",
   "id": "a8322d49-ced2-4077-8373-5a5bd76d155e",
   "metadata": {},
   "source": [
    "## MODULES IMPORT"
   ]
  },
  {
   "cell_type": "code",
   "execution_count": 1,
   "id": "1800229a-eeff-423d-b596-1589b625bb97",
   "metadata": {},
   "outputs": [],
   "source": [
    "import numpy as np\n",
    "import matplotlib.pyplot as plt\n",
    "\n",
    "import os\n",
    "import imageio.v2 as imageio\n",
    "from IPython.display import HTML"
   ]
  },
  {
   "cell_type": "markdown",
   "id": "4c9ec0f3-3731-447b-aecc-3b4088894523",
   "metadata": {},
   "source": [
    "## FUNCTIONS DEFINITION"
   ]
  },
  {
   "cell_type": "code",
   "execution_count": 2,
   "id": "f4c3983b-1d81-4403-bbc5-46a07771ed6e",
   "metadata": {},
   "outputs": [],
   "source": [
    "def l2norm(u):\n",
    "    return np.sum(u**2) / len(u)\n",
    "\n",
    "# Integrator for FTCS, LF, LW\n",
    "def integrate(u_in, t_f, method, par=[10, 101, 1, .5]):\n",
    "    L, N, a, cf = par\n",
    "    \n",
    "    x, dx = np.linspace(0, L, N), L / (N - 1)\n",
    "    dt = cf * dx / a\n",
    "    time = np.arange(int(t_f / dt) + 1) * dt\n",
    "\n",
    "    u_f = []\n",
    "    norm = []\n",
    "\n",
    "    u_cur = u_in.copy()\n",
    "\n",
    "    u_f.append(u_cur)\n",
    "    norm.append(l2norm(u_cur))\n",
    "    for t in time:\n",
    "        u_next = method(u_cur, dt, dx, a)\n",
    "        u_cur = u_next.copy()\n",
    "        \n",
    "        u_f.append(u_cur)\n",
    "        norm.append(l2norm(u_cur))\n",
    "\n",
    "    return time, np.array(u_f), np.array(norm)"
   ]
  },
  {
   "cell_type": "code",
   "execution_count": 3,
   "id": "7e7b14b8-b350-4a5a-8247-870a4c0da975",
   "metadata": {},
   "outputs": [],
   "source": [
    "# METHODS\n",
    "# NOTE: all methods are implemented using periodic boundary conditions (using np.roll)\n",
    "\n",
    "# Forward in Time Centered in Space\n",
    "def FTCS(u_cur, dt, dx, a):\n",
    "    u_jp, u_jm = np.roll(u_cur, -1), np.roll(u_cur, 1)\n",
    "    return u_cur - a * dt / (2 * dx) * (u_jp - u_jm)\n",
    "\n",
    "# Lax - Friedrichs\n",
    "def LF(u_cur, dt, dx, a):\n",
    "    u_jp, u_jm = np.roll(u_cur, -1), np.roll(u_cur, 1)\n",
    "    return .5 * (u_jp - u_jm) - a * dt / (2 * dx) * (u_jp - u_jm)\n",
    "\n",
    "# Lax - Wendroff\n",
    "def LW(u_cur, dt, dx, a):\n",
    "    u_jp, u_jm = np.roll(u_cur, -1), np.roll(u_cur, 1)\n",
    "    return u_cur - a * dt / (2 * dx) * (u_jp - u_jm) + (a * dt / dx)**2 / 2 * (u_jp - 2 * u_cur + u_jm)"
   ]
  },
  {
   "cell_type": "code",
   "execution_count": 4,
   "id": "8403ba98-fa00-42f8-bb1e-430e311252aa",
   "metadata": {},
   "outputs": [],
   "source": [
    "# LEAPFROG METHOD\n",
    "\n",
    "def leapfrog(u_in, t_f, par=[10, 101, 1, .5]):\n",
    "    L, N, a, cf = par\n",
    "    \n",
    "    x, dx = np.linspace(0, L, N), L / (N - 1)\n",
    "    dt = cf * dx / a\n",
    "    time = np.arange(int(t_f / dt) + 1) * dt\n",
    "\n",
    "    u_f = []\n",
    "    norm = []\n",
    "\n",
    "    u_prev = u_in.copy()\n",
    "    u_cur = FTCS(u_prev, dt, dx, a)\n",
    "\n",
    "    u_f.append(u_prev)\n",
    "    norm.append(l2norm(u_prev))\n",
    "    u_f.append(u_cur)\n",
    "    norm.append(l2norm(u_cur))\n",
    "    for t in time:\n",
    "        u_jp, u_jm = np.roll(u_cur, -1), np.roll(u_cur, 1)\n",
    "        u_next = u_prev - a * dt / dx * (u_jp - u_jm)\n",
    "\n",
    "        u_prev = u_cur.copy()\n",
    "        u_cur = u_next.copy()\n",
    "        \n",
    "        u_f.append(u_cur)\n",
    "        norm.append(l2norm(u_cur))\n",
    "\n",
    "    return np.array(u_f), np.array(norm)"
   ]
  },
  {
   "cell_type": "markdown",
   "id": "90937be4-3273-4e41-9d61-5b51ae888c9c",
   "metadata": {
    "jp-MarkdownHeadingCollapsed": true
   },
   "source": [
    "# 1 - ADVECTION EQUATION\n",
    "Solve the advection equation $\\frac{\\partial u}{\\partial t} + a \\frac{\\partial u}{\\partial x} = 0$, with $a = 1$ and intial condition:\n",
    "\n",
    "$u(x, t = 0) = \\exp[-(x - x_0)^2]$\n"
   ]
  },
  {
   "cell_type": "code",
   "execution_count": 5,
   "id": "02fe9d6b-fe2a-4db3-9dd1-41356ce821f1",
   "metadata": {},
   "outputs": [],
   "source": [
    "# SET UP\n",
    "\n",
    "# Define the speed a\n",
    "a = 1.0\n",
    "\n",
    "# Define the domain\n",
    "L, N = 10.0, 101   # domain length, number of grid points\n",
    "dx = L / (N - 1)   # grid spacing\n",
    "x = np.linspace(0, L, N)\n",
    "\n",
    "##print(x,'\\n',dx) #just a check\n",
    "\n",
    "# Define the time step and the final time\n",
    "cf = 0.5\n",
    "t_f = 20.0\n",
    "\n",
    "# Define the initial condition\n",
    "x0 = 5\n",
    "u_in = np.exp(-(x - x0)**2)"
   ]
  },
  {
   "cell_type": "markdown",
   "id": "0955185a-cbd3-41c1-bcf1-75c213c82028",
   "metadata": {
    "jp-MarkdownHeadingCollapsed": true
   },
   "source": [
    "## FTCS"
   ]
  },
  {
   "cell_type": "code",
   "execution_count": 7,
   "id": "8041dbbf-1191-48ed-a863-223a4e27615a",
   "metadata": {},
   "outputs": [],
   "source": [
    "# Solve the equation with FTCS\n",
    "\n",
    "time, u_f, l2norm = integrate(u_in, t_f, FTCS, [L, N, a, cf])"
   ]
  },
  {
   "cell_type": "code",
   "execution_count": 9,
   "id": "d208c9d6-a1e2-4299-88cc-ad39f9defee0",
   "metadata": {},
   "outputs": [
    {
     "data": {
      "image/png": "[encoded data removed]",
      "text/plain": [
       "<Figure size 640x480 with 1 Axes>"
      ]
     },
     "metadata": {},
     "output_type": "display_data"
    }
   ],
   "source": [
    "# Plot the final solution\n",
    "\n",
    "plt.plot(x, u_in, label='Initial')\n",
    "plt.plot(x, u_f[-1], label='Final')\n",
    "\n",
    "plt.title(f't = {time[-1]:.2f}')\n",
    "plt.xlabel('x')\n",
    "plt.ylabel('u(x, t)')\n",
    "#plt.ylim(0,1.1)\n",
    "\n",
    "plt.legend()\n",
    "plt.show()"
   ]
  },
  {
   "cell_type": "markdown",
   "id": "ed24fa81-4e0a-4033-85cc-0b3ffe217335",
   "metadata": {
    "jp-MarkdownHeadingCollapsed": true
   },
   "source": [
    "# MOVIE CREATION"
   ]
  },
  {
   "cell_type": "code",
   "execution_count": 22,
   "id": "37bd0dbe-e0f7-48b6-b0b0-89a3006ae7a2",
   "metadata": {},
   "outputs": [
    {
     "name": "stdout",
     "output_type": "stream",
     "text": [
      "/home/studente/Documents/MD-Astrophysics/NR/NR-24-25/H01\n"
     ]
    }
   ],
   "source": [
    "# Create directory where to save images\n",
    "print(os.getcwd())\n",
    "\n",
    "directory = './images-ftcs'\n",
    "\n",
    "os.makedirs(directory)\n",
    "os.listdir('./')\n",
    "\n",
    "directory += '/'"
   ]
  },
  {
   "cell_type": "code",
   "execution_count": 23,
   "id": "dbc9ee3f-a2e7-4696-805f-12b22178021a",
   "metadata": {},
   "outputs": [],
   "source": [
    "# Save the plot of the results every n iterations\n",
    "\n",
    "n = 10\n",
    "\n",
    "for i, (t, u) in enumerate(zip(time[::n], u_f[::n])):\n",
    "    plt.plot(x, u)\n",
    "    \n",
    "    plt.title(f't = {t:.2f}')\n",
    "    plt.xlabel('x')\n",
    "    plt.ylabel('u(x, t)')\n",
    "    #plt.ylim(0,1.1)\n",
    "    \n",
    "    plt.savefig(directory+str(i).zfill(5)+'.png', dpi=200)\n",
    "    plt.close()"
   ]
  },
  {
   "cell_type": "code",
   "execution_count": 24,
   "id": "62252699-6867-40c0-8f61-90cd865ac030",
   "metadata": {},
   "outputs": [
    {
     "name": "stdout",
     "output_type": "stream",
     "text": [
      "['00000.png', '00001.png', '00002.png', '00003.png', '00004.png', '00005.png', '00006.png', '00007.png', '00008.png', '00009.png', '00010.png', '00011.png', '00012.png', '00013.png', '00014.png', '00015.png', '00016.png', '00017.png', '00018.png', '00019.png', '00020.png', '00021.png', '00022.png', '00023.png', '00024.png', '00025.png', '00026.png', '00027.png', '00028.png', '00029.png', '00030.png', '00031.png', '00032.png', '00033.png', '00034.png', '00035.png', '00036.png', '00037.png', '00038.png', '00039.png', '00040.png']\n"
     ]
    }
   ],
   "source": [
    "# get the list of image files in the directory\n",
    "files = os.listdir(directory)\n",
    "\n",
    "#print(files, '\\n')\n",
    "\n",
    "# sort the files in alphanumeric order\n",
    "files = sorted(files)\n",
    "\n",
    "print(files)"
   ]
  },
  {
   "cell_type": "code",
   "execution_count": 25,
   "id": "c1925e6d-2e68-4c1a-acdf-ca97588e5c80",
   "metadata": {},
   "outputs": [],
   "source": [
    "#\n",
    "\n",
    "movie = './movie-ftcs.mp4'\n",
    "with imageio.get_writer(movie, mode='I', quality=10) as writer:\n",
    "    for file in files:\n",
    "        image = imageio.imread(directory+file)\n",
    "        writer.append_data(image)\n",
    "        \n",
    "files=[]"
   ]
  },
  {
   "cell_type": "code",
   "execution_count": 26,
   "id": "a5fd3ae0-8e07-4065-8bbb-87ee09ea0757",
   "metadata": {},
   "outputs": [
    {
     "data": {
      "text/html": [
       "\n",
       "<div align=\"middle\">\n",
       "<video width=\"80%\" controls>\n",
       "      <source src=\"./movie-ftcs.mp4\" type=\"video/mp4\">\n",
       "</video></div>"
      ],
      "text/plain": [
       "<IPython.core.display.HTML object>"
      ]
     },
     "execution_count": 26,
     "metadata": {},
     "output_type": "execute_result"
    }
   ],
   "source": [
    "# don't worry about the code in this cell, it is just to let you \n",
    "# display the movies you generated above in Jupyter notebook\n",
    "from IPython.display import HTML\n",
    "\n",
    "HTML(\"\"\"\n",
    "<div align=\"middle\">\n",
    "<video width=\"80%\" controls>\n",
    "      <source src=\"./movie-ftcs.mp4\" type=\"video/mp4\">\n",
    "</video></div>\"\"\")"
   ]
  },
  {
   "cell_type": "code",
   "execution_count": null,
   "id": "842ce477-2af3-422c-8648-46239ddf58cc",
   "metadata": {},
   "outputs": [],
   "source": []
  }
 ],
 "metadata": {
  "kernelspec": {
   "display_name": "Python 3 (ipykernel)",
   "language": "python",
   "name": "python3"
  },
  "language_info": {
   "codemirror_mode": {
    "name": "ipython",
    "version": 3
   },
   "file_extension": ".py",
   "mimetype": "text/x-python",
   "name": "python",
   "nbconvert_exporter": "python",
   "pygments_lexer": "ipython3",
   "version": "3.9.19"
  }
 },
 "nbformat": 4,
 "nbformat_minor": 5
}
