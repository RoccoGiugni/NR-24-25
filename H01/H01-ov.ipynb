{
 "cells": [
  {
   "cell_type": "markdown",
   "id": "4d550c5f-8215-46d2-96eb-7030b3fd833c",
   "metadata": {},
   "source": [
    "# HOMEWORK 01\n",
    "First version"
   ]
  },
  {
   "cell_type": "code",
   "execution_count": 1,
   "id": "1800229a-eeff-423d-b596-1589b625bb97",
   "metadata": {},
   "outputs": [],
   "source": [
    "import numpy as np\n",
    "import matplotlib.pyplot as plt\n",
    "\n",
    "import os\n",
    "import imageio.v2 as imageio\n",
    "from IPython.display import HTML"
   ]
  },
  {
   "cell_type": "markdown",
   "id": "90937be4-3273-4e41-9d61-5b51ae888c9c",
   "metadata": {},
   "source": [
    "# 1 - SETTING DOMAIN AND INITIAL CONDITIONS"
   ]
  },
  {
   "cell_type": "code",
   "execution_count": 3,
   "id": "02fe9d6b-fe2a-4db3-9dd1-41356ce821f1",
   "metadata": {},
   "outputs": [
    {
     "name": "stdout",
     "output_type": "stream",
     "text": [
      "nx= 101\n",
      "dx= 0.1\n",
      "dt= 0.05\n",
      "Number of iterations= 400.0\n"
     ]
    }
   ],
   "source": [
    "#define the speed a\n",
    "a=1.0\n",
    "\n",
    "# Define the domain\n",
    "L = 10.0     # Domain length\n",
    "nx = 101    # Number of grid points\n",
    "dx = L/(nx-1)   # Grid spacing\n",
    "x = np.linspace(0, L, nx)\n",
    "\n",
    "##print(x,'\\n',dx) #just a check\n",
    "\n",
    "# Define the time step and the final time\n",
    "cf = 0.5\n",
    "dt = cf*dx/a   # Time step\n",
    "t_final = 20.0\n",
    "\n",
    "print('nx=',nx)\n",
    "print('dx=',dx)\n",
    "print('dt=',dt)\n",
    "print('Number of iterations=',t_final/dt)\n",
    "\n",
    "\n",
    "# Define the initial condition\n",
    "x0=5\n",
    "u_initial = np.exp(-(x-x0)**2)"
   ]
  },
  {
   "cell_type": "markdown",
   "id": "0955185a-cbd3-41c1-bcf1-75c213c82028",
   "metadata": {
    "jp-MarkdownHeadingCollapsed": true
   },
   "source": [
    "## FTCS"
   ]
  },
  {
   "cell_type": "code",
   "execution_count": null,
   "id": "c4961503-308d-4345-9cea-56a6ac5886fe",
   "metadata": {},
   "outputs": [],
   "source": [
    "# Initialize the solution array\n",
    "u_current = u_initial.copy()\n",
    "\n",
    "#we create arrays where we will store the time and the l2norm\n",
    "l2norm = []\n",
    "l2norm.append(np.sqrt(np.sum(u_current**2)/len(u_current)))\n",
    "\n",
    "time =  []\n",
    "time.append(0.0)"
   ]
  },
  {
   "cell_type": "code",
   "execution_count": null,
   "id": "37bd0dbe-e0f7-48b6-b0b0-89a3006ae7a2",
   "metadata": {},
   "outputs": [],
   "source": [
    "import os\n",
    "##create directory where to save images\n",
    "print(os.getcwd())\n",
    "\n",
    "os.makedirs('./images-ftcs')\n",
    "path = './images-ftcs/fig_'\n",
    "\n",
    "\n",
    "os.listdir('./')"
   ]
  },
  {
   "cell_type": "code",
   "execution_count": null,
   "id": "e58b925c-91e3-4b12-b5c3-5035f1e2f5e1",
   "metadata": {},
   "outputs": [],
   "source": [
    "# Initilize time and iteration counter\n",
    "t = 0.0\n",
    "i = 0\n",
    "\n",
    "#save the initial conditions\n",
    "plt.plot(x, u_current)\n",
    "plt.title('Time='+str(round(t,2)))\n",
    "plt.ylim(0,1.1)\n",
    "plt.savefig(path+str(i).zfill(5)+'.png', dpi=200)\n",
    "plt.close()\n",
    "\n",
    "#solve the advection equation\n",
    "while t < t_final:\n",
    "    # Compute the new solution using the FTCS method\n",
    "    # Note: np.roll(u_current, -1) is equivalent to u(j+1) and\n",
    "    #       np.roll(u_current,  1) is equivalent to u(j-1)\n",
    "    # using np.roll is equivalent to use periodic boundary conditions\n",
    "    \n",
    "    u_next = u_current - a*dt/(2*dx)*(np.roll(u_current, -1) - np.roll(u_current, 1)) # FTCS\n",
    "    \n",
    "    # Update the solution\n",
    "    u_current = u_next.copy()\n",
    "    \n",
    "    #advance the time \n",
    "    t += dt\n",
    "    i += 1\n",
    "    \n",
    "    #compute the l2 norm and add the time to the time vector\n",
    "    l2norm.append(np.sqrt(np.sum(u_current**2)/len(u_current)))\n",
    "    time.append(t)\n",
    "    \n",
    "    #plot the current result and save in an image every 10 iterations\n",
    "    if (i%10==0):\n",
    "        plt.plot(x, u_current)\n",
    "        plt.title('Time='+str(round(t,2)))\n",
    "        plt.ylim(0,1.1)\n",
    "        plt.savefig(path+str(i).zfill(5)+'.png', dpi=200)\n",
    "        plt.close()\n"
   ]
  },
  {
   "cell_type": "code",
   "execution_count": null,
   "id": "d208c9d6-a1e2-4299-88cc-ad39f9defee0",
   "metadata": {},
   "outputs": [],
   "source": [
    "# Plot the final solution\n",
    "plt.plot(x, u_initial, label='Initial')\n",
    "plt.plot(x, u_current, label='Final')\n",
    "plt.title('Time='+str(round(t,2)))\n",
    "plt.ylim(0,1.1)\n",
    "plt.legend()\n",
    "plt.show()"
   ]
  },
  {
   "cell_type": "code",
   "execution_count": null,
   "id": "62252699-6867-40c0-8f61-90cd865ac030",
   "metadata": {},
   "outputs": [],
   "source": [
    "# set the directory where your images are stored\n",
    "directory = \"./images/\"\n",
    "\n",
    "# get the list of image files in the directory\n",
    "files = os.listdir(directory)\n",
    "\n",
    "print(files, '\\n')\n",
    "\n",
    "# sort the files in alphanumeric order\n",
    "files=sorted(files)\n",
    "\n",
    "print(files)\n",
    "\n",
    "\n"
   ]
  },
  {
   "cell_type": "code",
   "execution_count": null,
   "id": "c1925e6d-2e68-4c1a-acdf-ca97588e5c80",
   "metadata": {},
   "outputs": [],
   "source": [
    "import imageio.v2 as imageio\n",
    "with imageio.get_writer('./movie.mp4', mode='I', quality=10) as writer:\n",
    "    for file in files:\n",
    "        image = imageio.imread('./images/'+file)\n",
    "        writer.append_data(image)\n",
    "        \n",
    "files=[]\n"
   ]
  },
  {
   "cell_type": "code",
   "execution_count": null,
   "id": "a5fd3ae0-8e07-4065-8bbb-87ee09ea0757",
   "metadata": {},
   "outputs": [],
   "source": [
    "# don't worry about the code in this cell, it is just to let you \n",
    "# display the movies you generated above in Jupyter notebook\n",
    "from IPython.display import HTML\n",
    "\n",
    "HTML(\"\"\"\n",
    "<div align=\"middle\">\n",
    "<video width=\"80%\" controls>\n",
    "      <source src=\"./movie.mp4\" type=\"video/mp4\">\n",
    "</video></div>\"\"\")"
   ]
  },
  {
   "cell_type": "markdown",
   "id": "688e738e-f85d-40a5-802f-78398e1e06bb",
   "metadata": {},
   "source": [
    "# 2 - COMPUTING STUFF"
   ]
  },
  {
   "cell_type": "markdown",
   "id": "93c1f83f-7437-4af2-8715-0f635e50682b",
   "metadata": {
    "jp-MarkdownHeadingCollapsed": true
   },
   "source": [
    "## LAX - FRIEDRICHS"
   ]
  },
  {
   "cell_type": "code",
   "execution_count": null,
   "id": "e5c07040-638f-4e2c-9d85-79d2accedc9f",
   "metadata": {},
   "outputs": [],
   "source": [
    "# Initialize the solution array\n",
    "u_current = u_initial.copy()\n",
    "\n",
    "#we create arrays where we will store the time and the l2norm\n",
    "l2norm = []\n",
    "l2norm.append(np.sqrt(np.sum(u_current**2)/len(u_current)))\n",
    "\n",
    "time =  []\n",
    "time.append(0.0)"
   ]
  },
  {
   "cell_type": "code",
   "execution_count": null,
   "id": "a63c0a46-b278-47a2-b636-ed06d592539e",
   "metadata": {},
   "outputs": [],
   "source": [
    "# Initilize time and iteration counter\n",
    "t = 0.0\n",
    "i = 0\n",
    "\n",
    "#save the initial conditions\n",
    "plt.plot(x, u_current)\n",
    "plt.title('Time='+str(round(t,2)))\n",
    "plt.ylim(0,1.1)\n",
    "plt.savefig('./images/fig_'+str(i).zfill(5)+'.png', dpi=200)\n",
    "plt.close()\n",
    "\n",
    "#solve the advection equation\n",
    "while t < t_final:\n",
    "    # Compute the new solution using the FTCS method\n",
    "    # Note: np.roll(u_current, -1) is equivalent to u(j+1) and\n",
    "    #       np.roll(u_current,  1) is equivalent to u(j-1)\n",
    "    # using np.roll is equivalent to use periodic boundary conditions\n",
    "    #u_next = u_current - a*dt/(2*dx)*(np.roll(u_current, -1) - np.roll(u_current, 1)) # FTCS\n",
    "    \n",
    "    u_next = .5 * (np.roll(u_current, -1) + np.roll(u_current, 1)) - a*dt/(2*dx)*(np.roll(u_current, -1) - np.roll(u_current, 1)) # Lax-Friedrichs\n",
    "    \n",
    "    # Update the solution\n",
    "    u_current = u_next.copy()\n",
    "    \n",
    "    \n",
    "    #advance the time \n",
    "    t += dt\n",
    "    i += 1\n",
    "    \n",
    "    #compute the l2 norm and add the time to the time vector\n",
    "    l2norm.append(np.sqrt(np.sum(u_current**2)/len(u_current)))\n",
    "    time.append(t)\n",
    "    \n",
    "    #plot the current result and save in an image every 10 iterations\n",
    "    if (i%10==0):\n",
    "        plt.plot(x, u_current)\n",
    "        plt.title('Time='+str(round(t,2)))\n",
    "        plt.ylim(0,1.1)\n",
    "        plt.savefig('./images/fig_'+str(i).zfill(5)+'.png', dpi=200)\n",
    "        plt.close()\n"
   ]
  },
  {
   "cell_type": "code",
   "execution_count": null,
   "id": "803049a2-55b5-4417-9635-4a386c473586",
   "metadata": {},
   "outputs": [],
   "source": [
    "# Plot the final solution\n",
    "plt.plot(x, u_initial, label='Initial')\n",
    "plt.plot(x, u_current, label='Final')\n",
    "plt.title('Time='+str(round(t,2)))\n",
    "plt.ylim(0,1.1)\n",
    "plt.legend()\n",
    "plt.show()"
   ]
  },
  {
   "cell_type": "markdown",
   "id": "58e08132-f249-4406-bbc9-b3eacf73e654",
   "metadata": {},
   "source": [
    "## LEAPFROG"
   ]
  },
  {
   "cell_type": "code",
   "execution_count": null,
   "id": "0e442885-7430-4c8e-a06a-20a61995f940",
   "metadata": {},
   "outputs": [],
   "source": [
    "# Initialize the solution array\n",
    "u_current = u_initial.copy()\n",
    "\n",
    "#we create arrays where we will store the time and the l2norm\n",
    "l2norm = []\n",
    "l2norm.append(np.sqrt(np.sum(u_current**2)/len(u_current)))\n",
    "\n",
    "time =  []\n",
    "time.append(0.0)"
   ]
  },
  {
   "cell_type": "code",
   "execution_count": null,
   "id": "36e4a421-069c-462f-843e-3e0e6efa1eff",
   "metadata": {},
   "outputs": [],
   "source": [
    "# Initilize time and iteration counter\n",
    "t = 0.0\n",
    "i = 0\n",
    "\n",
    "#save the initial conditions\n",
    "plt.plot(x, u_current)\n",
    "plt.title('Time='+str(round(t,2)))\n",
    "plt.ylim(0,1.1)\n",
    "plt.savefig('./images/fig_'+str(i).zfill(5)+'.png', dpi=200)\n",
    "plt.close()\n",
    "\n",
    "#solve the advection equation\n",
    "while t < t_final:\n",
    "    # Compute the new solution using the FTCS method\n",
    "    # Note: np.roll(u_current, -1) is equivalent to u(j+1) and\n",
    "    #       np.roll(u_current,  1) is equivalent to u(j-1)\n",
    "    # using np.roll is equivalent to use periodic boundary conditions\n",
    "    #u_next = u_current - a*dt/(2*dx)*(np.roll(u_current, -1) - np.roll(u_current, 1)) # FTCS\n",
    "\n",
    "    u_jp1, u_jm1 = np.roll(u_current, -1), np.roll(u_current, 1)\n",
    "    u_next = u_previous - a*dt/dx*(u_jp1 - u_jm1))\n",
    "    \n",
    "    # Update the solution\n",
    "    u_current = u_next.copy()\n",
    "    u_previous = u_current.copy()\n",
    "    \n",
    "    #advance the time \n",
    "    t += dt\n",
    "    i += 1\n",
    "    \n",
    "    #compute the l2 norm and add the time to the time vector\n",
    "    l2norm.append(np.sqrt(np.sum(u_current**2)/len(u_current)))\n",
    "    time.append(t)\n",
    "    \n",
    "    #plot the current result and save in an image every 10 iterations\n",
    "    if (i%10==0):\n",
    "        plt.plot(x, u_current)\n",
    "        plt.title('Time='+str(round(t,2)))\n",
    "        plt.ylim(0,1.1)\n",
    "        plt.savefig('./images/fig_'+str(i).zfill(5)+'.png', dpi=200)\n",
    "        plt.close()\n"
   ]
  },
  {
   "cell_type": "code",
   "execution_count": null,
   "id": "77ede86a-29c9-48e7-9bc1-0c4d17379225",
   "metadata": {},
   "outputs": [],
   "source": [
    "# Plot the final solution\n",
    "plt.plot(x, u_initial, label='Initial')\n",
    "plt.plot(x, u_current, label='Final')\n",
    "plt.title('Time='+str(round(t,2)))\n",
    "plt.ylim(0,1.1)\n",
    "plt.legend()\n",
    "plt.show()"
   ]
  },
  {
   "cell_type": "markdown",
   "id": "d29eeb64-ce3a-42eb-800b-edafb9e4cd40",
   "metadata": {},
   "source": [
    "## LAX - WENDROFF"
   ]
  },
  {
   "cell_type": "code",
   "execution_count": 13,
   "id": "a227adda-9604-44d7-9c23-cac3c77c83ea",
   "metadata": {},
   "outputs": [],
   "source": [
    "# Initialize the solution array\n",
    "u_current = u_initial.copy()\n",
    "\n",
    "#we create arrays where we will store the time and the l2norm\n",
    "l2norm = []\n",
    "l2norm.append(np.sqrt(np.sum(u_current**2)/len(u_current)))\n",
    "\n",
    "time =  []\n",
    "time.append(0.0)"
   ]
  },
  {
   "cell_type": "code",
   "execution_count": 14,
   "id": "0ff1bb5e-af81-4914-a6b3-59bc77d2e83b",
   "metadata": {},
   "outputs": [
    {
     "name": "stdout",
     "output_type": "stream",
     "text": [
      "/home/studente/Documents/MD-Astrophysics/NR/NR-24-25/H01\n"
     ]
    },
    {
     "data": {
      "text/plain": [
       "['H01.ipynb', '.ipynb_checkpoints', 'images', 'movie.mp4', 'images-lw']"
      ]
     },
     "execution_count": 14,
     "metadata": {},
     "output_type": "execute_result"
    }
   ],
   "source": [
    "##create directory where to save images\n",
    "print(os.getcwd())\n",
    "\n",
    "os.makedirs('./images-lw')\n",
    "directory = './images-lw/'\n",
    "\n",
    "\n",
    "os.listdir('./')"
   ]
  },
  {
   "cell_type": "code",
   "execution_count": 15,
   "id": "16e2b86e-59d2-4976-94ea-2054f94868ed",
   "metadata": {},
   "outputs": [],
   "source": [
    "# Initilize time and iteration counter\n",
    "t = 0.0\n",
    "i = 0\n",
    "\n",
    "#save the initial conditions\n",
    "plt.plot(x, u_current)\n",
    "plt.title('Time='+str(round(t,2)))\n",
    "plt.ylim(0,1.1)\n",
    "plt.savefig(directory+'fig_'+str(i).zfill(5)+'.png', dpi=200)\n",
    "plt.close()\n",
    "\n",
    "#solve the advection equation\n",
    "while t < t_final:\n",
    "    # Compute the new solution using the FTCS method\n",
    "    # Note: np.roll(u_current, -1) is equivalent to u(j+1) and\n",
    "    #       np.roll(u_current,  1) is equivalent to u(j-1)\n",
    "    # using np.roll is equivalent to use periodic boundary conditions\n",
    "    #u_next = u_current - a*dt/(2*dx)*(np.roll(u_current, -1) - np.roll(u_current, 1)) # FTCS\n",
    "\n",
    "    u_jp1, u_jm1 = np.roll(u_current, -1), np.roll(u_current, 1)\n",
    "    u_next = u_current - a*dt/(2*dx) * (u_jp1 - u_jm1) + (a*dt/dx)**2/2 * (u_jp1 - 2 * u_current + u_jm1)\n",
    "    \n",
    "    # Update the solution\n",
    "    u_current = u_next.copy()\n",
    "    \n",
    "    \n",
    "    #advance the time \n",
    "    t += dt\n",
    "    i += 1\n",
    "    \n",
    "    #compute the l2 norm and add the time to the time vector\n",
    "    l2norm.append(np.sqrt(np.sum(u_current**2)/len(u_current)))\n",
    "    time.append(t)\n",
    "    \n",
    "    #plot the current result and save in an image every 10 iterations\n",
    "    if (i%10==0):\n",
    "        plt.plot(x, u_current)\n",
    "        plt.title('Time='+str(round(t,2)))\n",
    "        #plt.ylim(0,1.1)\n",
    "        plt.savefig('./images/fig_'+str(i).zfill(5)+'.png', dpi=200)\n",
    "        plt.close()\n"
   ]
  },
  {
   "cell_type": "code",
   "execution_count": 19,
   "id": "d79de5a4-2f44-4a7c-9916-f2040a665e23",
   "metadata": {},
   "outputs": [
    {
     "data": {
      "image/png": "[encoded data removed]",
      "text/plain": [
       "<Figure size 640x480 with 1 Axes>"
      ]
     },
     "metadata": {},
     "output_type": "display_data"
    }
   ],
   "source": [
    "# Plot the final solution\n",
    "plt.plot(x, u_initial, label='Initial')\n",
    "plt.plot(x, u_current, label='Final')\n",
    "plt.title('Time='+str(round(t,2)))\n",
    "#plt.ylim(0,1.1)\n",
    "plt.legend()\n",
    "plt.show()"
   ]
  },
  {
   "cell_type": "code",
   "execution_count": 16,
   "id": "f75bc2e0-1fa1-4a00-a693-42d453b7b050",
   "metadata": {},
   "outputs": [
    {
     "name": "stdout",
     "output_type": "stream",
     "text": [
      "['fig_00250.png', 'fig_00020.png', 'fig_00120.png', 'fig_00040.png', 'fig_00300.png', 'fig_00080.png', 'fig_00110.png', 'fig_00190.png', 'fig_00220.png', 'fig_00260.png', 'fig_00100.png', 'fig_00070.png', 'fig_00360.png', 'fig_00280.png', 'fig_00130.png', 'fig_00400.png', 'fig_00010.png', 'fig_00060.png', 'fig_00210.png', 'fig_00290.png', 'fig_00050.png', 'fig_00390.png', 'fig_00090.png', 'fig_00200.png', 'fig_00370.png', 'fig_00180.png', 'fig_00150.png', 'fig_00160.png', 'fig_00350.png', 'fig_00230.png', 'fig_00310.png', 'fig_00270.png', 'fig_00330.png', 'fig_00380.png', 'fig_00170.png', 'fig_00030.png', 'fig_00320.png', 'fig_00140.png', 'fig_00340.png', 'fig_00000.png', 'fig_00240.png'] \n",
      "\n",
      "['fig_00000.png', 'fig_00010.png', 'fig_00020.png', 'fig_00030.png', 'fig_00040.png', 'fig_00050.png', 'fig_00060.png', 'fig_00070.png', 'fig_00080.png', 'fig_00090.png', 'fig_00100.png', 'fig_00110.png', 'fig_00120.png', 'fig_00130.png', 'fig_00140.png', 'fig_00150.png', 'fig_00160.png', 'fig_00170.png', 'fig_00180.png', 'fig_00190.png', 'fig_00200.png', 'fig_00210.png', 'fig_00220.png', 'fig_00230.png', 'fig_00240.png', 'fig_00250.png', 'fig_00260.png', 'fig_00270.png', 'fig_00280.png', 'fig_00290.png', 'fig_00300.png', 'fig_00310.png', 'fig_00320.png', 'fig_00330.png', 'fig_00340.png', 'fig_00350.png', 'fig_00360.png', 'fig_00370.png', 'fig_00380.png', 'fig_00390.png', 'fig_00400.png']\n"
     ]
    }
   ],
   "source": [
    "# set the directory where your images are stored\n",
    "directory = './images/'\n",
    "\n",
    "# get the list of image files in the directory\n",
    "files = os.listdir(directory)\n",
    "\n",
    "print(files, '\\n')\n",
    "\n",
    "# sort the files in alphanumeric order\n",
    "files=sorted(files)\n",
    "\n",
    "print(files)\n",
    "\n",
    "\n"
   ]
  },
  {
   "cell_type": "code",
   "execution_count": 17,
   "id": "4a0399b0-31b1-45d7-a056-73e4accf8657",
   "metadata": {},
   "outputs": [],
   "source": [
    "with imageio.get_writer('./movie.mp4', mode='I', quality=10) as writer:\n",
    "    for file in files:\n",
    "        image = imageio.imread(directory+file)\n",
    "        writer.append_data(image)\n",
    "        \n",
    "files=[]\n"
   ]
  },
  {
   "cell_type": "code",
   "execution_count": 18,
   "id": "6788e522-7c6b-43b7-a218-0c059ea1f417",
   "metadata": {},
   "outputs": [
    {
     "data": {
      "text/html": [
       "\n",
       "<div align=\"middle\">\n",
       "<video width=\"80%\" controls>\n",
       "      <source src=\"./movie.mp4\" type=\"video/mp4\">\n",
       "</video></div>"
      ],
      "text/plain": [
       "<IPython.core.display.HTML object>"
      ]
     },
     "execution_count": 18,
     "metadata": {},
     "output_type": "execute_result"
    }
   ],
   "source": [
    "# don't worry about the code in this cell, it is just to let you \n",
    "# display the movies you generated above in Jupyter notebook\n",
    "\n",
    "HTML(\"\"\"\n",
    "<div align=\"middle\">\n",
    "<video width=\"80%\" controls>\n",
    "      <source src=\"./movie.mp4\" type=\"video/mp4\">\n",
    "</video></div>\"\"\")"
   ]
  },
  {
   "cell_type": "code",
   "execution_count": null,
   "id": "842ce477-2af3-422c-8648-46239ddf58cc",
   "metadata": {},
   "outputs": [],
   "source": []
  }
 ],
 "metadata": {
  "kernelspec": {
   "display_name": "Python 3 (ipykernel)",
   "language": "python",
   "name": "python3"
  },
  "language_info": {
   "codemirror_mode": {
    "name": "ipython",
    "version": 3
   },
   "file_extension": ".py",
   "mimetype": "text/x-python",
   "name": "python",
   "nbconvert_exporter": "python",
   "pygments_lexer": "ipython3",
   "version": "3.9.19"
  }
 },
 "nbformat": 4,
 "nbformat_minor": 5
}
